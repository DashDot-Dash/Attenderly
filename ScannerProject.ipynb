{
 "cells": [
  {
   "cell_type": "markdown",
   "metadata": {},
   "source": []
  },
  {
   "cell_type": "code",
   "execution_count": 14,
   "metadata": {},
   "outputs": [
    {
     "name": "stdout",
     "output_type": "stream",
     "text": [
      "Excel file will be saved to: /home/studio-one/Documents/StudioRepo/ScannerProject/attendance.xlsx\n",
      "Received QR code: Sn\n",
      "QR code Sn not found. Asking for name.\n",
      "Added new entry:   QR Code Name\n",
      "0      Sn   sn\n",
      "Marked Sn as present for Week 1\n",
      "Saving to Excel...\n",
      "Excel file saved.\n",
      "Logged: Sn at 2024-07-19 21:50:40 for Week 1\n",
      "Received QR code: Sn\n",
      "Marked Sn as present for Week 1\n",
      "Saving to Excel...\n",
      "Excel file saved.\n",
      "Logged: Sn at 2024-07-19 21:50:56 for Week 1\n",
      "Received QR code: Sn\n",
      "Marked Sn as present for Week 1\n",
      "Saving to Excel...\n",
      "Excel file saved.\n",
      "Logged: Sn at 2024-07-19 21:50:56 for Week 1\n",
      "\n",
      "Interrupt received. Saving Excel file and exiting...\n",
      "Excel file saved.\n"
     ]
    }
   ],
   "source": [
    "import serial\n",
    "import pandas as pd\n",
    "from datetime import datetime, timedelta\n",
    "import os\n",
    "\n",
    "# Configure the serial port and baud rate\n",
    "ser = serial.Serial('/dev/ttyUSB0', 115200, timeout=1)\n",
    "\n",
    "# Load or create the attendance DataFrame\n",
    "try:\n",
    "    df = pd.read_excel('attendance.xlsx', index_col=0)\n",
    "except FileNotFoundError:\n",
    "    df = pd.DataFrame(columns=['QR Code', 'Name'])\n",
    "\n",
    "# Define a function to determine the current week number\n",
    "def get_week_number(date):\n",
    "    start_date = datetime(2024, 7, 17)  # Change to the start date of your term\n",
    "    return ((date - start_date).days // 7) + 1\n",
    "\n",
    "# Specify the path for the Excel file\n",
    "output_path = os.path.join(os.getcwd(), 'attendance.xlsx')\n",
    "print(f\"Excel file will be saved to: {output_path}\")\n",
    "\n",
    "try:\n",
    "    while True:\n",
    "        line = ser.readline().decode('utf-8').strip()\n",
    "        if line and line.startswith(\"Found '\") and line.endswith(\"'\"):\n",
    "            qr_code = line[7:-1]  # Extract the QR code content\n",
    "            print(f\"Received QR code: {qr_code}\")  # Debugging statement\n",
    "            timestamp = datetime.now().strftime('%Y-%m-%d %H:%M:%S')\n",
    "            date_now = datetime.now()\n",
    "            week_number = get_week_number(date_now)\n",
    "            week_col = f'Week {week_number}'\n",
    "\n",
    "            if qr_code not in df['QR Code'].values:\n",
    "                print(f\"QR code {qr_code} not found. Asking for name.\")  # Debugging statement\n",
    "                name = input(f\"Enter name for QR code {qr_code}: \")  # For the first-time entry\n",
    "                new_entry = pd.DataFrame({'QR Code': [qr_code], 'Name': [name]})\n",
    "                df = pd.concat([df, new_entry], ignore_index=True)\n",
    "                print(f\"Added new entry: {new_entry}\")  # Debugging statement\n",
    "            \n",
    "            if week_col not in df.columns:\n",
    "                df[week_col] = 'Absent'  # Default to 'Absent' for all initially\n",
    "                print(f\"Added new column for {week_col}\")  # Debugging statement\n",
    "            \n",
    "            df.loc[df['QR Code'] == qr_code, week_col] = 'Present'\n",
    "            print(f\"Marked {qr_code} as present for {week_col}\")  # Debugging statement\n",
    "            \n",
    "            print(\"Saving to Excel...\")  # Debugging statement before saving\n",
    "            df.to_excel(output_path)\n",
    "            print(\"Excel file saved.\")  # Debugging statement after saving\n",
    "            print(f'Logged: {qr_code} at {timestamp} for {week_col}')\n",
    "except KeyboardInterrupt:\n",
    "    print(\"\\nInterrupt received. Saving Excel file and exiting...\")\n",
    "    df.to_excel(output_path)\n",
    "    print(\"Excel file saved.\")\n"
   ]
  }
 ],
 "metadata": {
  "kernelspec": {
   "display_name": "Python 3",
   "language": "python",
   "name": "python3"
  },
  "language_info": {
   "codemirror_mode": {
    "name": "ipython",
    "version": 3
   },
   "file_extension": ".py",
   "mimetype": "text/x-python",
   "name": "python",
   "nbconvert_exporter": "python",
   "pygments_lexer": "ipython3",
   "version": "3.10.12"
  }
 },
 "nbformat": 4,
 "nbformat_minor": 2
}
