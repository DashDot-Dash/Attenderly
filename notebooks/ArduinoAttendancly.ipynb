{
 "cells": [
  {
   "cell_type": "code",
   "execution_count": null,
   "metadata": {},
   "outputs": [],
   "source": [
    "#include <Wire.h>\n",
    "#include \"tiny_code_reader.h\"\n",
    "\n",
    "const int32_t SAMPLE_DELAY_MS = 200;\n",
    "\n",
    "void setup() {\n",
    "  Wire.begin();\n",
    "  Serial.begin(115200);\n",
    "}\n",
    "\n",
    "void loop() {\n",
    "  tiny_code_reader_results_t results = {};\n",
    "  if (!tiny_code_reader_read(&results)) {\n",
    "    delay(SAMPLE_DELAY_MS);\n",
    "    return;\n",
    "  }\n",
    "\n",
    "  if (results.content_length > 0) {\n",
    "    Serial.print((char*)results.content_bytes);\n",
    "    Serial.println();\n",
    "  }\n",
    "\n",
    "  delay(SAMPLE_DELAY_MS);\n",
    "}"
   ]
  }
 ],
 "metadata": {
  "language_info": {
   "name": "python"
  }
 },
 "nbformat": 4,
 "nbformat_minor": 2
}
