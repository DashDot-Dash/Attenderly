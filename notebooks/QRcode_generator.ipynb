{
 "cells": [
  {
   "cell_type": "code",
   "execution_count": 20,
   "metadata": {},
   "outputs": [],
   "source": [
    "import qrcode\n",
    "from PIL import Image, ImageDraw, ImageFont\n",
    "from reportlab.pdfgen import canvas\n",
    "from reportlab.lib.pagesizes import A4\n",
    "import pandas as pd\n",
    "import os\n",
    "from tkinter import Tk, messagebox\n",
    "from tkinter.filedialog import askopenfilename, askdirectory"
   ]
  },
  {
   "cell_type": "code",
   "execution_count": 21,
   "metadata": {},
   "outputs": [],
   "source": [
    "# Initialize Tkinter and show the root window\n",
    "root = Tk()\n",
    "root.withdraw()  # Hide the main Tkinter window\n",
    "\n",
    "# Open a file dialog to select the CSV file\n",
    "csv_file_path = askopenfilename(title=\"Select the students CSV file\", filetypes=[(\"CSV files\", \"*.csv\")])\n",
    "if not csv_file_path:\n",
    "    messagebox.showerror(\"Error\", \"No CSV file selected. Exiting.\")\n",
    "    root.destroy()\n",
    "    exit()\n",
    "\n",
    "# Load student data from the selected CSV file\n",
    "students = pd.read_csv(csv_file_path)  # Ensure your CSV has columns 'StudentID', 'Name', 'Class'\n",
    "\n",
    "# Open a directory dialog to select the directory for QR codes\n",
    "qr_codes_dir = askdirectory(title=\"Select the directory to store QR codes\")\n",
    "if not qr_codes_dir:\n",
    "    messagebox.showerror(\"Error\", \"No directory selected. Exiting.\")\n",
    "    root.destroy()\n",
    "    exit()\n",
    "\n",
    "os.makedirs(qr_codes_dir, exist_ok=True)"
   ]
  },
  {
   "cell_type": "code",
   "execution_count": 22,
   "metadata": {},
   "outputs": [],
   "source": [
    "# Generate QR codes for each student and save as PNG with custom design\n",
    "qr_codes = []\n",
    "for index, row in students.iterrows():\n",
    "    student_id = row['StudentID']\n",
    "    name = row['Name']\n",
    "    class_name = row['Class']\n",
    "    qr_data = f'{class_name}:{student_id}'\n",
    "    \n",
    "    # Generate QR code\n",
    "    qr = qrcode.QRCode(\n",
    "        version=1,\n",
    "        error_correction=qrcode.constants.ERROR_CORRECT_L,\n",
    "        box_size=10,\n",
    "        border=2,\n",
    "    )\n",
    "    qr.add_data(qr_data)\n",
    "    qr.make(fit=True)\n",
    "    img = qr.make_image(fill='black', back_color='white').convert('RGB')\n",
    "    \n",
    "    # Create custom design\n",
    "    img = img.resize((200, 200), Image.LANCZOS)\n",
    "    custom_img = Image.new('RGB', (200, 250), 'white')\n",
    "    draw = ImageDraw.Draw(custom_img)\n",
    "    \n",
    "    # Load a font\n",
    "    font = ImageFont.load_default()  # You can replace this with a TTF font for better styling\n",
    "    \n",
    "    # Draw the student ID above the QR code\n",
    "    bbox = draw.textbbox((0, 0), student_id, font=font)\n",
    "    text_width = bbox[2] - bbox[0]\n",
    "    draw.text(((200 - text_width) / 2, 10), student_id, fill='black', font=font)\n",
    "    \n",
    "    # Paste the QR code below the text\n",
    "    custom_img.paste(img, (0, 40))\n",
    "    \n",
    "    # Save as PNG\n",
    "    img_path = os.path.join(qr_codes_dir, f'{student_id}.png')\n",
    "    custom_img.save(img_path)\n",
    "    qr_codes.append(img_path)"
   ]
  },
  {
   "cell_type": "code",
   "execution_count": 23,
   "metadata": {},
   "outputs": [
    {
     "name": "stdout",
     "output_type": "stream",
     "text": [
      "PDF created at: /Users/jbs939/Documents/StudioRepo/Attenderly/Outputs/Student QR coders/qr_codes.pdf\n"
     ]
    }
   ],
   "source": [
    "# Function to create PDF with arranged QR codes\n",
    "def create_pdf(qr_codes, output_filename):\n",
    "    c = canvas.Canvas(output_filename, pagesize=A4)\n",
    "    width, height = A4\n",
    "    qr_width = 180  # Width of each QR code with design\n",
    "    qr_height = 250  # Height of each QR code with design\n",
    "    margin = 5  # Margin around QR codes\n",
    "    columns = 3  # Number of columns of QR codes per page\n",
    "    rows = 3  # Number of rows of QR codes per page\n",
    "\n",
    "    x_offset = margin\n",
    "    y_offset = height - margin - qr_height\n",
    "\n",
    "    for i, qr_code in enumerate(qr_codes):\n",
    "        if i > 0 and i % (columns * rows) == 0:\n",
    "            c.showPage()\n",
    "            x_offset = margin\n",
    "            y_offset = height - margin - qr_height\n",
    "\n",
    "        c.drawImage(qr_code, x_offset, y_offset, qr_width, qr_height)\n",
    "\n",
    "        x_offset += qr_width + margin\n",
    "        if (i + 1) % columns == 0:\n",
    "            x_offset = margin\n",
    "            y_offset -= qr_height + margin\n",
    "\n",
    "    c.save()\n",
    "    print(f\"PDF created at: {output_filename}\")\n",
    "\n",
    "output_pdf_path = os.path.join(qr_codes_dir, 'qr_codes.pdf')\n",
    "create_pdf(qr_codes, output_pdf_path)"
   ]
  },
  {
   "cell_type": "code",
   "execution_count": 24,
   "metadata": {},
   "outputs": [
    {
     "name": "stdout",
     "output_type": "stream",
     "text": [
      "PDF created at: /Users/jbs939/Documents/StudioRepo/Attenderly/Outputs/Student QR coders/qr_codes.pdf\n"
     ]
    },
    {
     "ename": "",
     "evalue": "",
     "output_type": "error",
     "traceback": [
      "\u001b[1;31mThe Kernel crashed while executing code in the current cell or a previous cell. \n",
      "\u001b[1;31mPlease review the code in the cell(s) to identify a possible cause of the failure. \n",
      "\u001b[1;31mClick <a href='https://aka.ms/vscodeJupyterKernelCrash'>here</a> for more info. \n",
      "\u001b[1;31mView Jupyter <a href='command:jupyter.viewOutput'>log</a> for further details."
     ]
    }
   ],
   "source": [
    "# Properly destroy the Tkinter root window\n",
    "root.destroy()\n",
    "\n",
    "# Print completion message to the console instead of using messagebox\n",
    "print(f\"PDF created at: {output_pdf_path}\")"
   ]
  }
 ],
 "metadata": {
  "kernelspec": {
   "display_name": "Python 3",
   "language": "python",
   "name": "python3"
  },
  "language_info": {
   "codemirror_mode": {
    "name": "ipython",
    "version": 3
   },
   "file_extension": ".py",
   "mimetype": "text/x-python",
   "name": "python",
   "nbconvert_exporter": "python",
   "pygments_lexer": "ipython3",
   "version": "3.12.2"
  }
 },
 "nbformat": 4,
 "nbformat_minor": 2
}
